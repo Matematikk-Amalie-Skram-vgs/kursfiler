{
 "cells": [
  {
   "cell_type": "markdown",
   "id": "3d9df12b-37de-4a9c-9639-b3d036555a72",
   "metadata": {},
   "source": [
    "# Utskrift, variablar og vilkår\n",
    "\n",
    "Grunnleggande Python til bruk i matematikk 1T. "
   ]
  },
  {
   "cell_type": "markdown",
   "id": "cd886907-5d73-4859-8e0a-ce42258b4c43",
   "metadata": {},
   "source": [
    "## Matematiske operatorar\n",
    "\n",
    "| Python | Kva | Døme | Matematisk |\n",
    "| :------: |:---: | :----: | ---- |\n",
    "| `+` | Addisjon | `1+3` | $1 + 3$ |\n",
    "| `-` | Subtraksjon | `3-2` | $3-2$ |\n",
    "| `*` | Multiplikasjon | `3*4` | $3 \\cdot 4$ |\n",
    "| `/` | Divisjon | `6/2` | $\\frac{6}{2}$ |\n",
    "| `**` | Potens | `2**3` | $2^3$ |\n",
    "| `//` | Heiltalsdivisjon | `10 // 3` | Kor mange 3-arar det er i 10 (her: 3)|\n",
    "| `%` | Modulus | `10 % 3` | Rest ved heiltalsdivisjon (her: 1) |"
   ]
  },
  {
   "cell_type": "markdown",
   "id": "8658f272-50a1-40cf-8e5a-869e1c2e04dc",
   "metadata": {},
   "source": [
    "## Utskrift\n",
    "\n",
    "Me kan be programmet vårt skriva ut ulike ting. Til dømes tekst, svar på utrekningar som er gjort eller liknande. <br> Me bruker kommandoen `print` til dette:"
   ]
  },
  {
   "cell_type": "code",
   "execution_count": null,
   "id": "0e278069-50f9-4326-b6f5-487c496e2a6b",
   "metadata": {},
   "outputs": [],
   "source": []
  },
  {
   "cell_type": "markdown",
   "id": "69da6032-f064-45b1-9abc-475d0f88f1c0",
   "metadata": {},
   "source": [
    "For å fortelja programmet at me vil skriva ut tekst brukar me `\" \"`. Prøver me uten, vil me få feilmelding. <br> \n",
    "Prøv sjølv og sjå kva som skjer:"
   ]
  },
  {
   "cell_type": "code",
   "execution_count": null,
   "id": "15478193-3aa5-4214-9c31-7627844d8042",
   "metadata": {},
   "outputs": [],
   "source": []
  },
  {
   "cell_type": "markdown",
   "id": "71ebfccc-c98d-4d6b-8fc4-ab31f42649e5",
   "metadata": {},
   "source": [
    "Nokre andre døme på utskrift:"
   ]
  },
  {
   "cell_type": "code",
   "execution_count": null,
   "id": "787b129f-b8f3-4478-b5b0-376df7563bfe",
   "metadata": {},
   "outputs": [],
   "source": []
  },
  {
   "cell_type": "markdown",
   "id": "2ec04fc9-4177-4320-bded-88890d8aea4a",
   "metadata": {},
   "source": [
    "## Variablar\n",
    "\n",
    "Informasjon kan lagrast i programmet. Til det bruker me variablar. No skal me sjå litt på korleis dei kan brukast, samt dei ulike typane variablar me kjem til å bruka. "
   ]
  },
  {
   "cell_type": "code",
   "execution_count": null,
   "id": "33d2a3d8-616f-41b4-8549-f6f4a7c4a9b2",
   "metadata": {},
   "outputs": [],
   "source": []
  },
  {
   "cell_type": "code",
   "execution_count": null,
   "id": "9b94bde3-2792-4880-97ec-46e385dae9d9",
   "metadata": {},
   "outputs": [],
   "source": []
  },
  {
   "cell_type": "code",
   "execution_count": null,
   "id": "f595c875-5ec6-4e4a-986d-43a70f38d8fe",
   "metadata": {},
   "outputs": [],
   "source": []
  },
  {
   "cell_type": "code",
   "execution_count": null,
   "id": "c89149f0-b8d6-48b9-8a15-4c0f1443b6fb",
   "metadata": {},
   "outputs": [],
   "source": []
  },
  {
   "cell_type": "code",
   "execution_count": null,
   "id": "bb969ea1-0df6-47df-81cf-9d8425b6dbc9",
   "metadata": {},
   "outputs": [],
   "source": []
  },
  {
   "cell_type": "markdown",
   "id": "0ac74784-bcc7-4b57-ae42-7c557a357b4b",
   "metadata": {},
   "source": [
    "### Datatypar/variabeltypar\n",
    "\n",
    "Me kjem i hovudsak til å jobba med variabeltypane lista opp under i 1T. \n",
    "- `int`\n",
    "- `float`\n",
    "- `string`\n",
    "- `bool`\n",
    "- `list` (seinare)\n",
    "- `array` frå [NumPy](https://numpy.org/doc/stable/) (seinare)"
   ]
  },
  {
   "cell_type": "code",
   "execution_count": null,
   "id": "6b96d24c-1cf3-478c-94ba-5b9271e94a5c",
   "metadata": {},
   "outputs": [],
   "source": []
  },
  {
   "cell_type": "code",
   "execution_count": null,
   "id": "1052919a-0d00-4b12-be31-60babbebaf15",
   "metadata": {},
   "outputs": [],
   "source": []
  },
  {
   "cell_type": "code",
   "execution_count": null,
   "id": "01711a3e-5b68-4583-8bc4-7b8fe86774ab",
   "metadata": {},
   "outputs": [],
   "source": []
  },
  {
   "cell_type": "code",
   "execution_count": null,
   "id": "aa6f1ec1-18af-49e9-a6ba-8bce4a387f8c",
   "metadata": {},
   "outputs": [],
   "source": []
  },
  {
   "cell_type": "markdown",
   "id": "983c66c3-7760-4964-abc5-2b6360fa6fcf",
   "metadata": {},
   "source": [
    "### Input\n",
    "\n",
    "Me kan be brukaren av programmet om å oppgje ein verdi og lagra denne i ein variabel. Dette kan vera både tal og tekst."
   ]
  },
  {
   "cell_type": "code",
   "execution_count": null,
   "id": "a00a34fd-a57b-457d-a03e-bc84602e67a0",
   "metadata": {},
   "outputs": [],
   "source": []
  },
  {
   "cell_type": "code",
   "execution_count": null,
   "id": "16bcec49-061b-4664-9079-29a09b3db5cd",
   "metadata": {},
   "outputs": [],
   "source": []
  },
  {
   "cell_type": "markdown",
   "id": "443a1686-e5e4-4d4b-ac7b-8adff710cbc7",
   "metadata": {},
   "source": [
    "## Vilkår\n",
    "\n",
    "Me kan ta val i programmet ut frå ulike vilkår.\n",
    "\n",
    "Me bruker `if`-setningar og boolske variablar vilkår til dette. "
   ]
  },
  {
   "cell_type": "markdown",
   "id": "7d690454-67f9-4d77-9ab2-c01798b4fc72",
   "metadata": {},
   "source": [
    "### Boolske variablar\n",
    "\n",
    "Sanningsvariablar. Blir brukt for å sjekka om noko er `true` eller `false`"
   ]
  },
  {
   "cell_type": "code",
   "execution_count": null,
   "id": "8544da76-f735-4357-b7cb-1ed398a0bf59",
   "metadata": {},
   "outputs": [],
   "source": []
  },
  {
   "cell_type": "code",
   "execution_count": null,
   "id": "a8dd5ac0-41a8-4064-9247-8f44bd4adffc",
   "metadata": {},
   "outputs": [],
   "source": []
  },
  {
   "cell_type": "code",
   "execution_count": null,
   "id": "fcf12515-de22-452a-948a-234ac0d1d040",
   "metadata": {},
   "outputs": [],
   "source": []
  },
  {
   "cell_type": "code",
   "execution_count": null,
   "id": "05e1d868-10bd-4253-8f73-4c264db79447",
   "metadata": {},
   "outputs": [],
   "source": []
  },
  {
   "cell_type": "code",
   "execution_count": null,
   "id": "fdff0a26-7c2a-413a-8fbe-a2e50ad486a2",
   "metadata": {},
   "outputs": [],
   "source": []
  },
  {
   "cell_type": "code",
   "execution_count": null,
   "id": "5a336772-2c5b-40f3-9d85-2be482253b59",
   "metadata": {},
   "outputs": [],
   "source": []
  },
  {
   "cell_type": "markdown",
   "id": "dd2cacba-c6cc-411c-b5be-642c4ad16767",
   "metadata": {},
   "source": [
    "### if-setning \n",
    "\n",
    " **Dersom** `vilkår` **så** `handling`."
   ]
  },
  {
   "cell_type": "code",
   "execution_count": null,
   "id": "3de61699-e663-49d5-92ad-44d255f38b60",
   "metadata": {},
   "outputs": [],
   "source": []
  },
  {
   "cell_type": "code",
   "execution_count": null,
   "id": "4dc53ef3-893e-4892-b659-b589cb5711a1",
   "metadata": {},
   "outputs": [],
   "source": []
  },
  {
   "cell_type": "markdown",
   "id": "e690d996-d584-4b93-8e3b-90485a7befb4",
   "metadata": {},
   "source": [
    "## Formatering av utskrift\n",
    "\n",
    "Viss me vil kombinera variablar og tekststrengar i utskrift, samt runda av tal med mange desimalar er det enklast å bruka *f-strengar*. Dømet under viser korleis dette blir gjort:"
   ]
  },
  {
   "cell_type": "code",
   "execution_count": 1,
   "id": "813f81cc-0e72-4010-ba25-98dffaa446a7",
   "metadata": {},
   "outputs": [
    {
     "name": "stdout",
     "output_type": "stream",
     "text": [
      "Verdien til a er 0.33\n"
     ]
    }
   ],
   "source": [
    "a = 1/3\n",
    "\n",
    "print(f\"Verdien til a er {a:.2f}\")"
   ]
  },
  {
   "cell_type": "markdown",
   "id": "64cb517a-e325-46b8-b7fa-b54725461e96",
   "metadata": {},
   "source": [
    "`:.2f` betyr her at me rundar av til 2 desimalar. Om me vil ha $n$ desimalar bytter me ut 2 med $n$ "
   ]
  },
  {
   "cell_type": "code",
   "execution_count": 2,
   "id": "64ba1f76-0822-48de-980d-db66ee619319",
   "metadata": {},
   "outputs": [
    {
     "name": "stdout",
     "output_type": "stream",
     "text": [
      "Verdien til a er 0.33333\n"
     ]
    }
   ],
   "source": [
    "print(f\"Verdien til a er {a:.5f}\")"
   ]
  },
  {
   "cell_type": "markdown",
   "id": "1fb3d012-d51a-43db-bfc6-b69f24a95e68",
   "metadata": {
    "tags": []
   },
   "source": [
    "## Oppgåver\n",
    "\n",
    "Her er eit par oppgåver for å trena på det me har gått gjennom så langt. "
   ]
  },
  {
   "cell_type": "markdown",
   "id": "51c9a262-7221-4fbd-aeb7-d58800d344b7",
   "metadata": {},
   "source": [
    "### Oppgåve 1 \n",
    "\n",
    "Kor mange gongar går 4 opp i 91, og kva vert resten om me deler 91 på 4? "
   ]
  },
  {
   "cell_type": "code",
   "execution_count": null,
   "id": "a9f6add6-eaff-4fbe-b61f-b2b9c3bf3ead",
   "metadata": {},
   "outputs": [],
   "source": []
  },
  {
   "cell_type": "markdown",
   "id": "c36cb3c3-510e-46b2-bbf0-736b8f58536c",
   "metadata": {},
   "source": [
    "### Oppgåve 2\n",
    "\n",
    "Lag eit program som spør etter namn og klasse til brukaren, lagrar svara i variablar og skriv ut ei helsing til brukar. <br> (T.d. \"Hei Torodd i 1STD\") "
   ]
  },
  {
   "cell_type": "code",
   "execution_count": null,
   "id": "7d283706-dafc-4a0c-888a-c9a474a884e7",
   "metadata": {},
   "outputs": [],
   "source": []
  },
  {
   "cell_type": "markdown",
   "id": "6b944c00-ae77-461d-bbfb-892180b44e34",
   "metadata": {},
   "source": [
    "### Oppgåve 3\n",
    "\n",
    "Lag ein variabel `x`, med verdien 13. Legg til verdien 13 to gongar, og del deretter variabelen på 4. <br> \n",
    "Får du svaret 9.75? "
   ]
  },
  {
   "cell_type": "code",
   "execution_count": null,
   "id": "291d298c-4d7a-46f7-8a98-73cdb683d7b8",
   "metadata": {},
   "outputs": [],
   "source": []
  },
  {
   "cell_type": "markdown",
   "id": "44829689-7990-4454-a08e-482e223369e8",
   "metadata": {},
   "source": [
    "### Oppgåve 4 \n",
    "\n",
    "Lag eit program som ber brukar om eit grunntal og ein eksponent, reknar ut potensen og skriv ut svaret. "
   ]
  },
  {
   "cell_type": "code",
   "execution_count": null,
   "id": "e3af0a1f-e89e-4ab1-b358-38fa47b71f5c",
   "metadata": {},
   "outputs": [],
   "source": []
  },
  {
   "cell_type": "markdown",
   "id": "f5e35dfe-a21f-47af-95f4-48016968a08f",
   "metadata": {},
   "source": [
    "### Oppgåve 5\n",
    "\n",
    "Skriv eit program som ber brukar om eit tal og etterpå skriv ei melding om talet er eit partal eller eit oddetal. "
   ]
  },
  {
   "cell_type": "code",
   "execution_count": null,
   "id": "bafd714c-8c48-4f7a-a11e-4cdd2525e42c",
   "metadata": {},
   "outputs": [],
   "source": []
  },
  {
   "cell_type": "markdown",
   "id": "aadcfdc3-3da6-4539-9f49-0ba3d48a8184",
   "metadata": {},
   "source": [
    "### Oppgåve 6a\n",
    "\n",
    "Skriv eit program som sjekkar om eit tal frå brukar er deleleg med **både** 3 og 4. "
   ]
  },
  {
   "cell_type": "code",
   "execution_count": null,
   "id": "5353513c-abaa-46eb-b3bc-bb35fdf1402c",
   "metadata": {},
   "outputs": [],
   "source": []
  },
  {
   "cell_type": "markdown",
   "id": "d0d4d39d-2b61-42f2-b969-e814c3f10fac",
   "metadata": {},
   "source": [
    "### Oppgåve 6b\n",
    "\n",
    "Skriv eit program som sjekkar om eit tal frå brukar er deleleg med **minst eit av tala** 3 og 4. "
   ]
  },
  {
   "cell_type": "code",
   "execution_count": null,
   "id": "d72ad0ad-19f4-45de-968b-b79d8f5aa30e",
   "metadata": {},
   "outputs": [],
   "source": []
  }
 ],
 "metadata": {
  "kernelspec": {
   "display_name": "Python 3 (ipykernel)",
   "language": "python",
   "name": "python3"
  },
  "language_info": {
   "codemirror_mode": {
    "name": "ipython",
    "version": 3
   },
   "file_extension": ".py",
   "mimetype": "text/x-python",
   "name": "python",
   "nbconvert_exporter": "python",
   "pygments_lexer": "ipython3",
   "version": "3.8.13"
  }
 },
 "nbformat": 4,
 "nbformat_minor": 5
}
