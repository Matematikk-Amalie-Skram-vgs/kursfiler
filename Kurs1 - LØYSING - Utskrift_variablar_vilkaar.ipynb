{
 "cells": [
  {
   "cell_type": "markdown",
   "id": "3d9df12b-37de-4a9c-9639-b3d036555a72",
   "metadata": {},
   "source": [
    "# Utskrift, variablar og vilkår\n",
    "\n",
    "Grunnleggande Python til bruk i matematikk 1T. "
   ]
  },
  {
   "cell_type": "markdown",
   "id": "fbae45f0-2a61-4089-92c7-7b3a15fc9ae9",
   "metadata": {
    "tags": []
   },
   "source": [
    "## Matematiske operatorar"
   ]
  },
  {
   "cell_type": "markdown",
   "id": "6f7f167c-380f-44f3-bf03-5751db4d5aa0",
   "metadata": {
    "tags": []
   },
   "source": [
    "| Python | Kva | Døme | Matematisk |\n",
    "| :------: |:---: | :----: | ---- |\n",
    "| `+` | Addisjon | `1+3` | $1 + 3$ |\n",
    "| `-` | Subtraksjon | `3-2` | $3-2$ |\n",
    "| `*` | Multiplikasjon | `3*4` | $3 \\cdot 4$ |\n",
    "| `/` | Divisjon | `6/2` | $\\frac{6}{2}$ |\n",
    "| `**` | Potens | `2**3` | $2^3$ |\n",
    "| `//` | Heiltalsdivisjon | `10 // 3` | Kor mange 3-arar det er i 10 (her: 3)|\n",
    "| `%` | Modulus | `10 % 3` | Rest ved heiltalsdivisjon (her: 1) |"
   ]
  },
  {
   "cell_type": "markdown",
   "id": "a02b9935-c9af-459b-8798-7c48ea7f621b",
   "metadata": {
    "tags": []
   },
   "source": [
    "## Utskrift"
   ]
  },
  {
   "cell_type": "markdown",
   "id": "c2ce6195-3814-4e8f-a74c-084356381349",
   "metadata": {
    "jp-MarkdownHeadingCollapsed": true,
    "tags": []
   },
   "source": [
    "Me kan be programmet vårt skriva ut ulike ting. Til dømes tekst, svar på utrekningar som er gjort eller liknande. <br> Me bruker kommandoen `print` til dette:"
   ]
  },
  {
   "cell_type": "code",
   "execution_count": 1,
   "id": "0e278069-50f9-4326-b6f5-487c496e2a6b",
   "metadata": {},
   "outputs": [
    {
     "name": "stdout",
     "output_type": "stream",
     "text": [
      "Hei Torodd\n",
      "3 + 4\n",
      "7\n"
     ]
    }
   ],
   "source": [
    "print(\"Hei Torodd\")\n",
    "print(\"3 + 4\")\n",
    "print(3 + 4)"
   ]
  },
  {
   "cell_type": "markdown",
   "id": "69da6032-f064-45b1-9abc-475d0f88f1c0",
   "metadata": {},
   "source": [
    "For å fortelja programmet at me vil skriva ut tekst brukar me `\" \"`. Prøver me uten, vil me få feilmelding. <br> \n",
    "Prøv sjølv og sjå kva som skjer:"
   ]
  },
  {
   "cell_type": "code",
   "execution_count": 2,
   "id": "15478193-3aa5-4214-9c31-7627844d8042",
   "metadata": {},
   "outputs": [
    {
     "ename": "SyntaxError",
     "evalue": "invalid syntax (43471778.py, line 1)",
     "output_type": "error",
     "traceback": [
      "\u001b[1;36m  Input \u001b[1;32mIn [2]\u001b[1;36m\u001b[0m\n\u001b[1;33m    print(Hei Torodd)\u001b[0m\n\u001b[1;37m              ^\u001b[0m\n\u001b[1;31mSyntaxError\u001b[0m\u001b[1;31m:\u001b[0m invalid syntax\n"
     ]
    }
   ],
   "source": [
    "print(Hei Torodd)"
   ]
  },
  {
   "cell_type": "markdown",
   "id": "71ebfccc-c98d-4d6b-8fc4-ab31f42649e5",
   "metadata": {},
   "source": [
    "Nokre andre døme på utskrift:"
   ]
  },
  {
   "cell_type": "code",
   "execution_count": 3,
   "id": "787b129f-b8f3-4478-b5b0-376df7563bfe",
   "metadata": {},
   "outputs": [
    {
     "name": "stdout",
     "output_type": "stream",
     "text": [
      "1024\n",
      "1\n",
      "56\n"
     ]
    }
   ],
   "source": [
    "print(4**5)\n",
    "print(5//3)\n",
    "print(\"5\" + \"6\")"
   ]
  },
  {
   "cell_type": "markdown",
   "id": "05e13c19-5408-4ea5-86e8-b3a415860a68",
   "metadata": {
    "tags": []
   },
   "source": [
    "## Variablar"
   ]
  },
  {
   "cell_type": "markdown",
   "id": "3145e19b-144e-4990-b077-042a430fb9e2",
   "metadata": {
    "tags": []
   },
   "source": [
    "Informasjon kan lagrast i programmet. Til det bruker me variablar. No skal me sjå litt på korleis dei kan brukast, samt dei ulike typane variablar me kjem til å bruka. "
   ]
  },
  {
   "cell_type": "code",
   "execution_count": 4,
   "id": "33d2a3d8-616f-41b4-8549-f6f4a7c4a9b2",
   "metadata": {},
   "outputs": [
    {
     "name": "stdout",
     "output_type": "stream",
     "text": [
      "5\n"
     ]
    }
   ],
   "source": [
    "a = 2\n",
    "b = 3\n",
    "print(a+b)"
   ]
  },
  {
   "cell_type": "code",
   "execution_count": 5,
   "id": "9b94bde3-2792-4880-97ec-46e385dae9d9",
   "metadata": {},
   "outputs": [
    {
     "name": "stdout",
     "output_type": "stream",
     "text": [
      "8\n",
      "13\n"
     ]
    }
   ],
   "source": [
    "n = 4\n",
    "n = n + 4   # n += 4\n",
    "print(n)\n",
    "\n",
    "n += 5\n",
    "print(n)"
   ]
  },
  {
   "cell_type": "code",
   "execution_count": 6,
   "id": "f595c875-5ec6-4e4a-986d-43a70f38d8fe",
   "metadata": {},
   "outputs": [],
   "source": [
    "# rekkefølgen cellene blir køyrd i er viktig\n",
    "a = 13 "
   ]
  },
  {
   "cell_type": "code",
   "execution_count": 7,
   "id": "c89149f0-b8d6-48b9-8a15-4c0f1443b6fb",
   "metadata": {},
   "outputs": [
    {
     "name": "stdout",
     "output_type": "stream",
     "text": [
      "13\n"
     ]
    }
   ],
   "source": [
    "print(a)"
   ]
  },
  {
   "cell_type": "code",
   "execution_count": 8,
   "id": "bb969ea1-0df6-47df-81cf-9d8425b6dbc9",
   "metadata": {},
   "outputs": [],
   "source": [
    "a = 99"
   ]
  },
  {
   "cell_type": "markdown",
   "id": "0ac74784-bcc7-4b57-ae42-7c557a357b4b",
   "metadata": {},
   "source": [
    "### Datatypar/variabeltypar\n",
    "\n",
    "Me kjem i hovudsak til å jobba med variabeltypane lista opp under i 1T. \n",
    "- `int`\n",
    "- `float`\n",
    "- `string`\n",
    "- `bool`\n",
    "- `list` (seinare)\n",
    "- `array` frå [NumPy](https://numpy.org/doc/stable/) (seinare)"
   ]
  },
  {
   "cell_type": "code",
   "execution_count": 9,
   "id": "6b96d24c-1cf3-478c-94ba-5b9271e94a5c",
   "metadata": {},
   "outputs": [],
   "source": [
    "a = 5       # int - heiltal\n",
    "b = 3.99    # float - desimaltal\n",
    "c = \"tekst\" # string - tekststreng"
   ]
  },
  {
   "cell_type": "code",
   "execution_count": 10,
   "id": "1052919a-0d00-4b12-be31-60babbebaf15",
   "metadata": {},
   "outputs": [
    {
     "name": "stdout",
     "output_type": "stream",
     "text": [
      "3\n"
     ]
    }
   ],
   "source": [
    "d = int(b)\n",
    "print(d)"
   ]
  },
  {
   "cell_type": "code",
   "execution_count": 11,
   "id": "01711a3e-5b68-4583-8bc4-7b8fe86774ab",
   "metadata": {},
   "outputs": [
    {
     "name": "stdout",
     "output_type": "stream",
     "text": [
      "5.0\n"
     ]
    }
   ],
   "source": [
    "e = float(a)\n",
    "print(e)"
   ]
  },
  {
   "cell_type": "code",
   "execution_count": 12,
   "id": "aa6f1ec1-18af-49e9-a6ba-8bce4a387f8c",
   "metadata": {},
   "outputs": [
    {
     "name": "stdout",
     "output_type": "stream",
     "text": [
      "3.993.993.99\n"
     ]
    }
   ],
   "source": [
    "f = str(b)\n",
    "print(3*f)"
   ]
  },
  {
   "cell_type": "markdown",
   "id": "983c66c3-7760-4964-abc5-2b6360fa6fcf",
   "metadata": {},
   "source": [
    "### Input\n",
    "\n",
    "Me kan be brukaren av programmet om å oppgje ein verdi og lagra denne i ein variabel. Dette kan vera både tal og tekst."
   ]
  },
  {
   "cell_type": "code",
   "execution_count": 13,
   "id": "a00a34fd-a57b-457d-a03e-bc84602e67a0",
   "metadata": {},
   "outputs": [
    {
     "name": "stdin",
     "output_type": "stream",
     "text": [
      "Skriv inn eit tal:  123\n"
     ]
    },
    {
     "name": "stdout",
     "output_type": "stream",
     "text": [
      "123123123123123\n"
     ]
    }
   ],
   "source": [
    "tal = input(\"Skriv inn eit tal: \")\n",
    "print(5*tal)"
   ]
  },
  {
   "cell_type": "code",
   "execution_count": 15,
   "id": "16bcec49-061b-4664-9079-29a09b3db5cd",
   "metadata": {},
   "outputs": [
    {
     "name": "stdin",
     "output_type": "stream",
     "text": [
      "Skriv inn eit tal:  123\n"
     ]
    },
    {
     "name": "stdout",
     "output_type": "stream",
     "text": [
      "615.0\n"
     ]
    }
   ],
   "source": [
    "tal = float(input(\"Skriv inn eit tal: \"))\n",
    "print(5*tal)"
   ]
  },
  {
   "cell_type": "markdown",
   "id": "4d4204ed-a0b6-4af7-8a17-f71fe729c1fe",
   "metadata": {
    "tags": []
   },
   "source": [
    "## Vilkår"
   ]
  },
  {
   "cell_type": "markdown",
   "id": "9065379b-42de-4eb0-ac06-0e119623c488",
   "metadata": {},
   "source": [
    "Me kan ta val i programmet ut frå ulike vilkår.\n",
    "\n",
    "Me bruker `if`-setningar og boolske variablar vilkår til dette. "
   ]
  },
  {
   "cell_type": "markdown",
   "id": "7d690454-67f9-4d77-9ab2-c01798b4fc72",
   "metadata": {},
   "source": [
    "### Boolske variablar\n",
    "\n",
    "Sanningsvariablar. Blir brukt for å sjekka om noko er `true` eller `false`"
   ]
  },
  {
   "cell_type": "code",
   "execution_count": 16,
   "id": "8544da76-f735-4357-b7cb-1ed398a0bf59",
   "metadata": {},
   "outputs": [
    {
     "name": "stdout",
     "output_type": "stream",
     "text": [
      "False\n"
     ]
    }
   ],
   "source": [
    "print(3.99 == 4)"
   ]
  },
  {
   "cell_type": "code",
   "execution_count": 17,
   "id": "a8dd5ac0-41a8-4064-9247-8f44bd4adffc",
   "metadata": {},
   "outputs": [
    {
     "name": "stdout",
     "output_type": "stream",
     "text": [
      "True\n"
     ]
    }
   ],
   "source": [
    "print(7//2 == 3)"
   ]
  },
  {
   "cell_type": "code",
   "execution_count": 18,
   "id": "fcf12515-de22-452a-948a-234ac0d1d040",
   "metadata": {},
   "outputs": [
    {
     "name": "stdout",
     "output_type": "stream",
     "text": [
      "True\n"
     ]
    }
   ],
   "source": [
    "print(5 > 4)"
   ]
  },
  {
   "cell_type": "code",
   "execution_count": 19,
   "id": "05e1d868-10bd-4253-8f73-4c264db79447",
   "metadata": {},
   "outputs": [
    {
     "name": "stdout",
     "output_type": "stream",
     "text": [
      "True\n"
     ]
    }
   ],
   "source": [
    "print(5 >= 4)"
   ]
  },
  {
   "cell_type": "code",
   "execution_count": 20,
   "id": "fdff0a26-7c2a-413a-8fbe-a2e50ad486a2",
   "metadata": {},
   "outputs": [
    {
     "name": "stdout",
     "output_type": "stream",
     "text": [
      "True\n"
     ]
    }
   ],
   "source": [
    "print((3>2) and (4<5))    # begge vilkåra stemmer"
   ]
  },
  {
   "cell_type": "code",
   "execution_count": 21,
   "id": "5a336772-2c5b-40f3-9d85-2be482253b59",
   "metadata": {},
   "outputs": [
    {
     "name": "stdout",
     "output_type": "stream",
     "text": [
      "True\n"
     ]
    }
   ],
   "source": [
    "print((3>2) or (4>5))     # eitt av vilkåra stemmer"
   ]
  },
  {
   "cell_type": "markdown",
   "id": "dd2cacba-c6cc-411c-b5be-642c4ad16767",
   "metadata": {},
   "source": [
    "### if-setning \n",
    "\n",
    " **Dersom** `vilkår` **så** `handling`."
   ]
  },
  {
   "cell_type": "code",
   "execution_count": 22,
   "id": "3de61699-e663-49d5-92ad-44d255f38b60",
   "metadata": {},
   "outputs": [
    {
     "name": "stdin",
     "output_type": "stream",
     "text": [
      "a =  9\n",
      "b =  10\n"
     ]
    },
    {
     "name": "stdout",
     "output_type": "stream",
     "text": [
      "a er mindre eller lik b\n"
     ]
    }
   ],
   "source": [
    "a = float(input(\"a = \"))\n",
    "b = float(input(\"b = \")) \n",
    "\n",
    "if a > b:\n",
    "    print(\"a er større enn b\")\n",
    "else: \n",
    "    print(\"a er mindre eller lik b\")"
   ]
  },
  {
   "cell_type": "code",
   "execution_count": 23,
   "id": "4dc53ef3-893e-4892-b659-b589cb5711a1",
   "metadata": {},
   "outputs": [
    {
     "name": "stdin",
     "output_type": "stream",
     "text": [
      "a =  10\n",
      "b =  10\n"
     ]
    },
    {
     "name": "stdout",
     "output_type": "stream",
     "text": [
      "a er lik b\n"
     ]
    }
   ],
   "source": [
    "a = float(input(\"a = \"))\n",
    "b = float(input(\"b = \")) \n",
    "\n",
    "if a > b: #gjer denne viss a>b er \"True\"\n",
    "    print(\"a er større enn b\")\n",
    "elif a < b:\n",
    "    print(\"a er mindre enn b\")\n",
    "else: \n",
    "    print(\"a er lik b\")"
   ]
  },
  {
   "cell_type": "markdown",
   "id": "add7bdfc-1c0a-4e02-8ae1-f8b16ed407f6",
   "metadata": {
    "tags": []
   },
   "source": [
    "## Formatering av utskrift"
   ]
  },
  {
   "cell_type": "markdown",
   "id": "23d67c95-5576-460a-add7-645319755ec1",
   "metadata": {
    "tags": []
   },
   "source": [
    "Viss me vil kombinera variablar og tekststrengar i utskrift, samt runda av tal med mange desimalar er det enklast å bruka *f-strengar*. Dømet under viser korleis dette blir gjort:"
   ]
  },
  {
   "cell_type": "code",
   "execution_count": 24,
   "id": "813f81cc-0e72-4010-ba25-98dffaa446a7",
   "metadata": {},
   "outputs": [
    {
     "name": "stdout",
     "output_type": "stream",
     "text": [
      "Verdien til a er 0.33\n"
     ]
    }
   ],
   "source": [
    "a = 1/3\n",
    "\n",
    "print(f\"Verdien til a er {a:.2f}\")"
   ]
  },
  {
   "cell_type": "markdown",
   "id": "64cb517a-e325-46b8-b7fa-b54725461e96",
   "metadata": {},
   "source": [
    "`:.2f` betyr her at me rundar av til 2 desimalar. Om me vil ha $n$ desimalar bytter me ut 2 med $n$ "
   ]
  },
  {
   "cell_type": "code",
   "execution_count": 25,
   "id": "64ba1f76-0822-48de-980d-db66ee619319",
   "metadata": {},
   "outputs": [
    {
     "name": "stdout",
     "output_type": "stream",
     "text": [
      "Verdien til a er 0.3333\n"
     ]
    }
   ],
   "source": [
    "print(f\"Verdien til a er {a:.4f}\")"
   ]
  },
  {
   "cell_type": "markdown",
   "id": "1fb3d012-d51a-43db-bfc6-b69f24a95e68",
   "metadata": {
    "tags": []
   },
   "source": [
    "## Oppgåver\n",
    "\n",
    "Her er eit par oppgåver for å trena på det me har gått gjennom så langt. "
   ]
  },
  {
   "cell_type": "markdown",
   "id": "51c9a262-7221-4fbd-aeb7-d58800d344b7",
   "metadata": {},
   "source": [
    "### Oppgåve 1 \n",
    "\n",
    "Kor mange gongar går 4 opp i 91, og kva vert resten om me deler 91 på 4? "
   ]
  },
  {
   "cell_type": "code",
   "execution_count": 26,
   "id": "a9f6add6-eaff-4fbe-b61f-b2b9c3bf3ead",
   "metadata": {},
   "outputs": [
    {
     "name": "stdout",
     "output_type": "stream",
     "text": [
      "22\n",
      "3\n"
     ]
    }
   ],
   "source": [
    "print(91 // 4)\n",
    "print(91 % 4)"
   ]
  },
  {
   "cell_type": "markdown",
   "id": "c36cb3c3-510e-46b2-bbf0-736b8f58536c",
   "metadata": {},
   "source": [
    "### Oppgåve 2\n",
    "\n",
    "Lag eit program som spør etter namn og klasse til brukaren, lagrar svara i variablar og skriv ut ei helsing til brukar. <br> (T.d. \"Hei Torodd i 1STD\") "
   ]
  },
  {
   "cell_type": "code",
   "execution_count": 27,
   "id": "7d283706-dafc-4a0c-888a-c9a474a884e7",
   "metadata": {},
   "outputs": [
    {
     "name": "stdin",
     "output_type": "stream",
     "text": [
      "Kva heiter du? Torodd\n",
      "Kva klasse går du i? 1STD\n"
     ]
    },
    {
     "name": "stdout",
     "output_type": "stream",
     "text": [
      "Hei Torodd i 1STD\n"
     ]
    }
   ],
   "source": [
    "namn = input(\"Kva heiter du?\")\n",
    "klasse = input(\"Kva klasse går du i?\")\n",
    "\n",
    "print(f\"Hei {namn} i {klasse}\")"
   ]
  },
  {
   "cell_type": "markdown",
   "id": "6b944c00-ae77-461d-bbfb-892180b44e34",
   "metadata": {},
   "source": [
    "### Oppgåve 3\n",
    "\n",
    "Lag ein variabel `x`, med verdien 13. Legg til verdien 13 to gongar, og del deretter variabelen på 4. <br> \n",
    "Får du svaret 9.75? "
   ]
  },
  {
   "cell_type": "code",
   "execution_count": 28,
   "id": "291d298c-4d7a-46f7-8a98-73cdb683d7b8",
   "metadata": {},
   "outputs": [
    {
     "name": "stdout",
     "output_type": "stream",
     "text": [
      "9.75\n"
     ]
    }
   ],
   "source": [
    "x = 13\n",
    "x = x + 13\n",
    "x += 13\n",
    "x = x / 4\n",
    "print(x)"
   ]
  },
  {
   "cell_type": "markdown",
   "id": "44829689-7990-4454-a08e-482e223369e8",
   "metadata": {},
   "source": [
    "### Oppgåve 4 \n",
    "\n",
    "Lag eit program som ber brukar om eit grunntal og ein eksponent, reknar ut potensen og skriv ut svaret. "
   ]
  },
  {
   "cell_type": "code",
   "execution_count": 29,
   "id": "e3af0a1f-e89e-4ab1-b358-38fa47b71f5c",
   "metadata": {},
   "outputs": [
    {
     "name": "stdin",
     "output_type": "stream",
     "text": [
      "Grunntal:  10\n",
      "Eksponent:  3\n"
     ]
    },
    {
     "name": "stdout",
     "output_type": "stream",
     "text": [
      "1000.0\n"
     ]
    }
   ],
   "source": [
    "grunntal = float(input(\"Grunntal: \"))\n",
    "eksponent = float(input(\"Eksponent: \"))\n",
    "\n",
    "print(grunntal**eksponent)"
   ]
  },
  {
   "cell_type": "markdown",
   "id": "f5e35dfe-a21f-47af-95f4-48016968a08f",
   "metadata": {},
   "source": [
    "### Oppgåve 5\n",
    "\n",
    "Skriv eit program som ber brukar om eit tal og etterpå skriv ei melding om talet er eit partal eller eit oddetal. "
   ]
  },
  {
   "cell_type": "code",
   "execution_count": 30,
   "id": "bafd714c-8c48-4f7a-a11e-4cdd2525e42c",
   "metadata": {},
   "outputs": [
    {
     "name": "stdin",
     "output_type": "stream",
     "text": [
      "Skriv inn eit tal:  16\n"
     ]
    },
    {
     "name": "stdout",
     "output_type": "stream",
     "text": [
      "16 er eit partal\n"
     ]
    }
   ],
   "source": [
    "a = int(input(\"Skriv inn eit tal: \"))\n",
    "\n",
    "if (a%2 == 0):\n",
    "    print(f\"{a} er eit partal\")\n",
    "else:\n",
    "    print(f\"{a} er eit oddetal\")"
   ]
  },
  {
   "cell_type": "markdown",
   "id": "aadcfdc3-3da6-4539-9f49-0ba3d48a8184",
   "metadata": {},
   "source": [
    "### Oppgåve 6a\n",
    "\n",
    "Skriv eit program som sjekkar om eit tal frå brukar er deleleg med **både** 3 og 4. "
   ]
  },
  {
   "cell_type": "code",
   "execution_count": 31,
   "id": "5353513c-abaa-46eb-b3bc-bb35fdf1402c",
   "metadata": {},
   "outputs": [
    {
     "name": "stdin",
     "output_type": "stream",
     "text": [
      "Skriv inn eit tal:  24\n"
     ]
    },
    {
     "name": "stdout",
     "output_type": "stream",
     "text": [
      "24 er deleleg med både 3 og 4\n"
     ]
    }
   ],
   "source": [
    "a = int(input(\"Skriv inn eit tal: \"))\n",
    "\n",
    "if (a%3 == 0) and (a%4 ==0):\n",
    "    print(f\"{a} er deleleg med både 3 og 4\")\n",
    "else:\n",
    "    print(f\"{a} er ikkje deleleg med både 3 og 4\")"
   ]
  },
  {
   "cell_type": "markdown",
   "id": "d0d4d39d-2b61-42f2-b969-e814c3f10fac",
   "metadata": {},
   "source": [
    "### Oppgåve 6b\n",
    "\n",
    "Skriv eit program som sjekkar om eit tal frå brukar er deleleg med **minst eit av tala** 3 og 4. "
   ]
  },
  {
   "cell_type": "code",
   "execution_count": 32,
   "id": "d72ad0ad-19f4-45de-968b-b79d8f5aa30e",
   "metadata": {},
   "outputs": [
    {
     "name": "stdin",
     "output_type": "stream",
     "text": [
      "Skriv inn eit tal:  23\n"
     ]
    },
    {
     "name": "stdout",
     "output_type": "stream",
     "text": [
      "23 er ikkje deleleg med 3 og/eller 4\n"
     ]
    }
   ],
   "source": [
    "a = int(input(\"Skriv inn eit tal: \"))\n",
    "\n",
    "if (a%3 == 0) or (a%4 ==0):\n",
    "    print(f\"{a} er deleleg med enten 3 eller 4\")\n",
    "else:\n",
    "    print(f\"{a} er ikkje deleleg med 3 og/eller 4\")"
   ]
  },
  {
   "cell_type": "code",
   "execution_count": null,
   "id": "986159f3-f1c5-4aee-969f-259aa4e77f24",
   "metadata": {},
   "outputs": [],
   "source": []
  }
 ],
 "metadata": {
  "kernelspec": {
   "display_name": "Python 3 (ipykernel)",
   "language": "python",
   "name": "python3"
  },
  "language_info": {
   "codemirror_mode": {
    "name": "ipython",
    "version": 3
   },
   "file_extension": ".py",
   "mimetype": "text/x-python",
   "name": "python",
   "nbconvert_exporter": "python",
   "pygments_lexer": "ipython3",
   "version": "3.8.13"
  }
 },
 "nbformat": 4,
 "nbformat_minor": 5
}
