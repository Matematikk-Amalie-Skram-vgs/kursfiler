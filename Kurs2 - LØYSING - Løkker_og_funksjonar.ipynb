{
 "cells": [
  {
   "cell_type": "markdown",
   "id": "b2fe24c3-b215-4e9e-80a1-0eff42a20a01",
   "metadata": {},
   "source": [
    "# Løkker og funksjonar\n",
    "\n",
    "Grunnleggande Python til bruk i matematikk 1T. "
   ]
  },
  {
   "cell_type": "markdown",
   "id": "78e2fae4-d079-42ab-ade2-15eba53e6630",
   "metadata": {},
   "source": [
    "## Løkker\n",
    "\n",
    "Løkker (engelsk: *loops*) bruker me når for å repetera kode. Me ser på to ulike typar, `for` og `while`.  "
   ]
  },
  {
   "cell_type": "markdown",
   "id": "1b32a95d-bff7-48dd-b8af-c1d8798677c8",
   "metadata": {},
   "source": [
    "### `for`-løkke\n",
    "\n",
    "`for`-løkker er nyttige når me veit kor mange gongar me skal repetera koden."
   ]
  },
  {
   "cell_type": "code",
   "execution_count": 1,
   "id": "5d70e792-7406-4170-ac1e-0d8a38964bb6",
   "metadata": {},
   "outputs": [
    {
     "name": "stdout",
     "output_type": "stream",
     "text": [
      "0\n",
      "1\n",
      "2\n",
      "3\n",
      "4\n"
     ]
    }
   ],
   "source": [
    "for i in range(5):\n",
    "    print(i)"
   ]
  },
  {
   "cell_type": "code",
   "execution_count": 2,
   "id": "901b74e2-e9bd-4b32-86bb-970565af8181",
   "metadata": {},
   "outputs": [
    {
     "name": "stdout",
     "output_type": "stream",
     "text": [
      "1\n",
      "2\n",
      "3\n",
      "4\n",
      "5\n"
     ]
    }
   ],
   "source": [
    "for i in range(1, 6):\n",
    "    print(i)"
   ]
  },
  {
   "cell_type": "code",
   "execution_count": 3,
   "id": "d2eb58b6-3bd2-4fb4-baad-07971aaae0de",
   "metadata": {},
   "outputs": [
    {
     "name": "stdout",
     "output_type": "stream",
     "text": [
      "2\n",
      "4\n",
      "6\n",
      "8\n",
      "10\n"
     ]
    }
   ],
   "source": [
    "for i in range(2, 12, 2):\n",
    "    print(i)"
   ]
  },
  {
   "cell_type": "markdown",
   "id": "e19c7860-ef95-4d89-a45b-e17e6e007dfd",
   "metadata": {},
   "source": [
    "for-løkker er fine å bruka viss ein t.d. skal skriva ut elementa i ei liste kvar for seg:"
   ]
  },
  {
   "cell_type": "code",
   "execution_count": 4,
   "id": "36908718-b758-4317-bcaf-9cdd094226f0",
   "metadata": {},
   "outputs": [
    {
     "name": "stdout",
     "output_type": "stream",
     "text": [
      "Lars\n",
      "Maria\n",
      "Tove\n",
      "Helge\n",
      "Torild\n",
      "Torrey\n"
     ]
    }
   ],
   "source": [
    "namneliste = [\"Lars\", \"Maria\", \"Tove\", \"Helge\", \"Torild\", \"Torrey\"]\n",
    "\n",
    "for namn in namneliste:\n",
    "    print(namn)\n"
   ]
  },
  {
   "cell_type": "markdown",
   "id": "3bc902f2",
   "metadata": {},
   "source": [
    "Eller viss me vil skriva ut alle teikna i eit ord eller i ein setning:"
   ]
  },
  {
   "cell_type": "code",
   "execution_count": 5,
   "id": "3b3e5975",
   "metadata": {},
   "outputs": [
    {
     "name": "stdout",
     "output_type": "stream",
     "text": [
      "A\n",
      "m\n",
      "a\n",
      "l\n",
      "i\n",
      "e\n",
      " \n",
      "S\n",
      "k\n",
      "r\n",
      "a\n",
      "m\n",
      " \n",
      "v\n",
      "g\n",
      "s\n"
     ]
    }
   ],
   "source": [
    "setning = \"Amalie Skram vgs\"\n",
    "\n",
    "for bokstav in setning:\n",
    "    print(bokstav)"
   ]
  },
  {
   "cell_type": "markdown",
   "id": "2e2cb5a9",
   "metadata": {},
   "source": [
    "Summere dei $n$ første naturlege tala"
   ]
  },
  {
   "cell_type": "code",
   "execution_count": 6,
   "id": "991bc9d1",
   "metadata": {},
   "outputs": [
    {
     "name": "stdout",
     "output_type": "stream",
     "text": [
      "45\n"
     ]
    }
   ],
   "source": [
    "n = 9\n",
    "\n",
    "total = 0\n",
    "\n",
    "for i in range(1, n+1):\n",
    "    total = total + i\n",
    "\n",
    "print(total)"
   ]
  },
  {
   "cell_type": "markdown",
   "id": "5a5c08db-8deb-4fd3-a545-a295ff6dfbf5",
   "metadata": {},
   "source": [
    "### `while`-løkke \n",
    "\n",
    "`while`-løkker bruker me når me ikkje veit kor mange repetisjonar me må ha for oppnå det resultatet me ønsker. "
   ]
  },
  {
   "cell_type": "code",
   "execution_count": 7,
   "id": "725851e0-91be-4ee5-92f0-0a1fd991d7e0",
   "metadata": {},
   "outputs": [
    {
     "name": "stdout",
     "output_type": "stream",
     "text": [
      "50.0\n",
      "25.0\n",
      "12.5\n",
      "6.25\n",
      "3.125\n",
      "1.5625\n",
      "0.78125\n"
     ]
    }
   ],
   "source": [
    "tal = 100\n",
    "\n",
    "while tal > 1:\n",
    "    tal = tal/2\n",
    "    print(tal)\n"
   ]
  },
  {
   "cell_type": "code",
   "execution_count": 8,
   "id": "07a19886-af13-4cc9-a87a-ae80a2c58013",
   "metadata": {},
   "outputs": [
    {
     "name": "stdout",
     "output_type": "stream",
     "text": [
      "100\n",
      "50.0\n",
      "25.0\n",
      "12.5\n",
      "6.25\n",
      "3.125\n",
      "1.5625\n"
     ]
    }
   ],
   "source": [
    "tal = 100\n",
    "\n",
    "while tal > 1:\n",
    "    print(tal)\n",
    "    tal = tal/2"
   ]
  },
  {
   "cell_type": "markdown",
   "id": "8cc1a920-dfeb-45a6-93d9-15629776a714",
   "metadata": {},
   "source": [
    "## Funksjonar\n",
    "\n",
    "Funksjonar i Python er ikkje det same som funksjonar i matematikk. Døme på ein funksjon i Python er `print()` som me har brukt ein del allereie. Me kan enkelt laga våre eigne funksjonar som ein del av programma våre. Til dømes ein funksjon som reknar omkrets av ein sirkel:"
   ]
  },
  {
   "cell_type": "code",
   "execution_count": 9,
   "id": "a373e7ec-668f-488f-9101-44379fca28fe",
   "metadata": {},
   "outputs": [
    {
     "name": "stdout",
     "output_type": "stream",
     "text": [
      "62.83\n"
     ]
    }
   ],
   "source": [
    "import numpy as np\n",
    "\n",
    "def omkrets(radius):\n",
    "    return 2*np.pi*radius\n",
    "\n",
    "o = omkrets(10)\n",
    "print(f\"{o:.2f}\")"
   ]
  },
  {
   "cell_type": "markdown",
   "id": "8d2842df",
   "metadata": {},
   "source": [
    "Me kan òg laga funksjonar som tar inn fleire argument enn eitt. Me lagar ein funksjon som ser på prosentvis endring over tid:"
   ]
  },
  {
   "cell_type": "code",
   "execution_count": 10,
   "id": "0581aa92",
   "metadata": {},
   "outputs": [
    {
     "name": "stdout",
     "output_type": "stream",
     "text": [
      "Beløpet har vokst til 17958.56 kr\n"
     ]
    }
   ],
   "source": [
    "def renter(beløp, rentefot, år):\n",
    "    vf = 1+(rentefot/100)\n",
    "    \n",
    "    for i in range(år):\n",
    "        beløp = beløp*vf\n",
    "        \n",
    "    return beløp\n",
    "\n",
    "nytt_beløp = renter(10000, 5, 12)\n",
    "print(f\"Beløpet har vokst til {nytt_beløp:.2f} kr\")"
   ]
  },
  {
   "cell_type": "markdown",
   "id": "086f632d-bb9c-44f9-ae5c-97742032c00f",
   "metadata": {},
   "source": [
    "# Oppgåver\n",
    "\n",
    "Oppgåvene under skal løysast med programmering:"
   ]
  },
  {
   "cell_type": "markdown",
   "id": "1b7e6093",
   "metadata": {},
   "source": [
    "## Oppgåve 1\n",
    "\n",
    "Lag eit program som skriv ut dei 10 første kubikktala"
   ]
  },
  {
   "cell_type": "code",
   "execution_count": 11,
   "id": "de598309",
   "metadata": {
    "tags": []
   },
   "outputs": [
    {
     "name": "stdout",
     "output_type": "stream",
     "text": [
      "1\n",
      "8\n",
      "27\n",
      "64\n",
      "125\n",
      "216\n",
      "343\n",
      "512\n",
      "729\n",
      "1000\n"
     ]
    }
   ],
   "source": [
    "for i in range(1, 11):\n",
    "    print(i**3)"
   ]
  },
  {
   "cell_type": "markdown",
   "id": "51242b29",
   "metadata": {},
   "source": [
    "## Oppgåve 2\n",
    "\n",
    "Lag eit program som finn summen av dei 100 første partala"
   ]
  },
  {
   "cell_type": "code",
   "execution_count": 12,
   "id": "556494a9",
   "metadata": {
    "tags": []
   },
   "outputs": [
    {
     "name": "stdout",
     "output_type": "stream",
     "text": [
      "10100\n"
     ]
    }
   ],
   "source": [
    "# alternativ 1\n",
    "summen = 0\n",
    "\n",
    "for i in range(1, 101):\n",
    "    summen += 2*i\n",
    "    \n",
    "print(summen)"
   ]
  },
  {
   "cell_type": "code",
   "execution_count": 13,
   "id": "e8ba49eb-b1bd-4e26-b3de-c5cb0f21bbfa",
   "metadata": {},
   "outputs": [
    {
     "name": "stdout",
     "output_type": "stream",
     "text": [
      "10100\n"
     ]
    }
   ],
   "source": [
    "# alternativ 2\n",
    "summen = 0\n",
    "\n",
    "for i in range(2, 201, 2):\n",
    "    summen += i\n",
    "    \n",
    "print(summen)"
   ]
  },
  {
   "cell_type": "markdown",
   "id": "d9fb9d57",
   "metadata": {},
   "source": [
    "## Oppgåve 3\n",
    "\n",
    "Lag eit program som skriv ut alle tal mellom 1 og 100 som er deleleg med både 3 og 4"
   ]
  },
  {
   "cell_type": "code",
   "execution_count": 14,
   "id": "4b167467",
   "metadata": {
    "tags": []
   },
   "outputs": [
    {
     "name": "stdout",
     "output_type": "stream",
     "text": [
      "12\n",
      "24\n",
      "36\n",
      "48\n",
      "60\n",
      "72\n",
      "84\n",
      "96\n"
     ]
    }
   ],
   "source": [
    "for i in range(1, 101):\n",
    "    if (i%3==0) and (i%4==0):\n",
    "        print(i)"
   ]
  },
  {
   "cell_type": "markdown",
   "id": "1bb643fc",
   "metadata": {},
   "source": [
    "## Oppgåve 4\n",
    "\n",
    "Du set inn 15 000 kroner på ein konto til 3 % rente. Kor mange år må pengane stå på konto før du har 50 000 kr?"
   ]
  },
  {
   "cell_type": "code",
   "execution_count": 15,
   "id": "2186c466",
   "metadata": {},
   "outputs": [
    {
     "name": "stdout",
     "output_type": "stream",
     "text": [
      "Etter 41 år er det 50398.48 kr på konto\n"
     ]
    }
   ],
   "source": [
    "beløp = 15000\n",
    "vf = 1.03\n",
    "år = 0\n",
    "\n",
    "while beløp < 50000:\n",
    "    beløp = beløp*vf\n",
    "    år = år + 1\n",
    "\n",
    "print(f\"Etter {år} år er det {beløp:.2f} kr på konto\")"
   ]
  },
  {
   "cell_type": "markdown",
   "id": "99b27497",
   "metadata": {},
   "source": [
    "## Oppgåve 5\n",
    "\n",
    "Skriv ut alle kvadrattala som er mindre enn 200. "
   ]
  },
  {
   "cell_type": "code",
   "execution_count": 16,
   "id": "7708c099",
   "metadata": {
    "tags": []
   },
   "outputs": [
    {
     "name": "stdout",
     "output_type": "stream",
     "text": [
      "1\n",
      "4\n",
      "9\n",
      "16\n",
      "25\n",
      "36\n",
      "49\n",
      "64\n",
      "81\n",
      "100\n",
      "121\n",
      "144\n",
      "169\n",
      "196\n"
     ]
    }
   ],
   "source": [
    "i = 1\n",
    "\n",
    "while i**2 < 200:\n",
    "    print(i**2)\n",
    "    i = i + 1"
   ]
  },
  {
   "cell_type": "markdown",
   "id": "fb9c17ba",
   "metadata": {},
   "source": [
    "## Oppgåve 6\n",
    "\n",
    "Lag ein funksjon som reknar ut arealet av ein trekant. Funksjonen skal ta inn grunnflate og høgde som argument, og returnera arealet. \n",
    "Test funksjonen på ulike trekantar."
   ]
  },
  {
   "cell_type": "code",
   "execution_count": 17,
   "id": "7d6c76be-0cd3-4198-ab0a-2270cd319d26",
   "metadata": {},
   "outputs": [
    {
     "name": "stdout",
     "output_type": "stream",
     "text": [
      "10.0\n",
      "17.5\n"
     ]
    }
   ],
   "source": [
    "def areal_trekant(grunnlinje, høgde):\n",
    "    return (grunnlinje*høgde)/2\n",
    "\n",
    "print(areal_trekant(5, 4))\n",
    "print(areal_trekant(5, 7))"
   ]
  },
  {
   "cell_type": "code",
   "execution_count": null,
   "id": "b340b59f-a6d8-4fca-a691-01ab3a7adf73",
   "metadata": {},
   "outputs": [],
   "source": []
  }
 ],
 "metadata": {
  "kernelspec": {
   "display_name": "Python 3 (ipykernel)",
   "language": "python",
   "name": "python3"
  },
  "language_info": {
   "codemirror_mode": {
    "name": "ipython",
    "version": 3
   },
   "file_extension": ".py",
   "mimetype": "text/x-python",
   "name": "python",
   "nbconvert_exporter": "python",
   "pygments_lexer": "ipython3",
   "version": "3.8.13"
  },
  "vscode": {
   "interpreter": {
    "hash": "40d3a090f54c6569ab1632332b64b2c03c39dcf918b08424e98f38b5ae0af88f"
   }
  }
 },
 "nbformat": 4,
 "nbformat_minor": 5
}
